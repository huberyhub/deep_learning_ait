{
  "cells": [
    {
      "cell_type": "markdown",
      "metadata": {
        "colab_type": "text",
        "id": "view-in-github"
      },
      "source": [
        "<a href=\"https://colab.research.google.com/github/huberyhub/deep_learning_ait/blob/main/5_AIT_Deep_learning_Exercise_regression.ipynb\" target=\"_parent\"><img src=\"https://colab.research.google.com/assets/colab-badge.svg\" alt=\"Open In Colab\"/></a>"
      ]
    },
    {
      "cell_type": "markdown",
      "metadata": {
        "id": "_jiGtJu6u9ml"
      },
      "source": [
        "# Copyright\n",
        "\n",
        "<PRE>\n",
        "Copyright (c) 2023 Bálint Gyires-Tóth - All Rights Reserved\n",
        "You may use and modify this code for research and development purpuses.\n",
        "Use this code for educational purposes (self-paced or instructor led) without the permission of the author is prohibited.\n",
        "</PRE>"
      ]
    },
    {
      "cell_type": "markdown",
      "metadata": {
        "id": "oXyFC44jV-PP"
      },
      "source": [
        "\n",
        "\n",
        "# California housing prices - modeling\n",
        "In this notebook we will:\n",
        "* using California housing prices data (https://www.kaggle.com/camnugent/california-housing-prices)\n",
        "* exploring the data\n",
        "* creating a model\n",
        "* training the model\n",
        "* evaluation on test data\n",
        "* making predictions and regression plot\n",
        "\n",
        "Exercises:\n",
        "* please complete TODO parts\n"
      ]
    },
    {
      "cell_type": "code",
      "execution_count": 32,
      "metadata": {
        "id": "jLX73EvBu9ms"
      },
      "outputs": [],
      "source": [
        "import matplotlib.pyplot as plt\n",
        "import seaborn as sns\n",
        "import numpy as np\n",
        "import pandas as pd\n",
        "import matplotlib.pyplot as plt\n",
        "from sklearn import preprocessing\n",
        "from sklearn.datasets import fetch_california_housing"
      ]
    },
    {
      "cell_type": "code",
      "execution_count": null,
      "metadata": {
        "id": "Ba-K0MyGoNay"
      },
      "outputs": [],
      "source": [
        "from tensorflow.keras.models import Sequential\n",
        "from tensorflow.keras.layers import Dense\n",
        "from tensorflow.keras.optimizers import Adam\n"
      ]
    },
    {
      "cell_type": "code",
      "execution_count": 33,
      "metadata": {
        "id": "K5uDujeqviOH"
      },
      "outputs": [],
      "source": [
        "# load California Housing Prices dataset\n",
        "housing = fetch_california_housing()\n",
        "X,Y = housing['data'], housing['target']\n",
        "nb_samples = X.shape[0]"
      ]
    },
    {
      "cell_type": "code",
      "execution_count": 34,
      "metadata": {
        "colab": {
          "base_uri": "https://localhost:8080/"
        },
        "id": "xznscZ_wRRJL",
        "outputId": "9b2309cc-daa6-45d7-f355-1dfb4f227870"
      },
      "outputs": [
        {
          "data": {
            "text/plain": [
              "((20640, 8), (20640,))"
            ]
          },
          "execution_count": 34,
          "metadata": {},
          "output_type": "execute_result"
        }
      ],
      "source": [
        "X.shape, Y.shape"
      ]
    },
    {
      "cell_type": "markdown",
      "metadata": {
        "id": "sS7xCTZioeIK"
      },
      "source": [
        "Splitting data into training, validation and test sets:"
      ]
    },
    {
      "cell_type": "code",
      "execution_count": 35,
      "metadata": {
        "id": "YWUhEmcaoYeW"
      },
      "outputs": [
        {
          "name": "stdout",
          "output_type": "stream",
          "text": [
            "X_train:  [[ 8.32520000e+00  4.10000000e+01  6.98412698e+00  1.02380952e+00\n",
            "   3.22000000e+02  2.55555556e+00  3.78800000e+01 -1.22230000e+02]\n",
            " [ 8.30140000e+00  2.10000000e+01  6.23813708e+00  9.71880492e-01\n",
            "   2.40100000e+03  2.10984183e+00  3.78600000e+01 -1.22220000e+02]\n",
            " [ 7.25740000e+00  5.20000000e+01  8.28813559e+00  1.07344633e+00\n",
            "   4.96000000e+02  2.80225989e+00  3.78500000e+01 -1.22240000e+02]\n",
            " [ 5.64310000e+00  5.20000000e+01  5.81735160e+00  1.07305936e+00\n",
            "   5.58000000e+02  2.54794521e+00  3.78500000e+01 -1.22250000e+02]\n",
            " [ 3.84620000e+00  5.20000000e+01  6.28185328e+00  1.08108108e+00\n",
            "   5.65000000e+02  2.18146718e+00  3.78500000e+01 -1.22250000e+02]]\n",
            "Y_train:  [4.526 3.585 3.521 3.413 3.422]\n",
            "X_valid:  [[   3.744        30.            4.20348837    1.11918605  650.\n",
            "     1.88953488   32.8        -117.26      ]\n",
            " [   5.4103       33.            5.27574751    0.96013289  683.\n",
            "     2.26910299   32.81       -117.24      ]\n",
            " [   6.5881       34.            6.17346939    0.99744898  917.\n",
            "     2.33928571   32.81       -117.24      ]\n",
            " [   3.9187       39.            5.61094225    1.06382979  765.\n",
            "     2.32522796   32.81       -117.25      ]\n",
            " [   3.2109       34.            4.02676399    1.09489051  870.\n",
            "     2.11678832   32.84       -117.27      ]]\n",
            "Y_valid:  [4.5   3.324 3.944 3.119 3.76 ]\n",
            "X_test:  [[ 2.07750000e+00  4.40000000e+01  3.05315615e+00  1.02657807e+00\n",
            "   1.32100000e+03  4.38870432e+00  3.69000000e+01 -1.21760000e+02]\n",
            " [ 2.43750000e+00  2.00000000e+01  4.79074074e+00  1.01296296e+00\n",
            "   1.53400000e+03  2.84074074e+00  3.69300000e+01 -1.21770000e+02]\n",
            " [ 3.01920000e+00  2.40000000e+01  4.21475054e+00  9.69631236e-01\n",
            "   1.84400000e+03  4.00000000e+00  3.69300000e+01 -1.21770000e+02]\n",
            " [ 3.28130000e+00  3.30000000e+01  4.67109635e+00  1.05315615e+00\n",
            "   1.07500000e+03  3.57142857e+00  3.69300000e+01 -1.21770000e+02]\n",
            " [ 2.64340000e+00  2.00000000e+01  4.40491803e+00  1.04426230e+00\n",
            "   2.15400000e+03  3.53114754e+00  3.69200000e+01 -1.21760000e+02]]\n",
            "Y_test:  [1.214 1.904 1.843 1.9   1.697]\n"
          ]
        }
      ],
      "source": [
        "valid_split = 0.2\n",
        "test_split  = 0.1\n",
        "\n",
        "# calculate the validation and test split points\n",
        "v_point = int(nb_samples * (1 - valid_split - test_split))\n",
        "t_point = int(nb_samples * (1 - test_split))\n",
        "\n",
        "X_train = X[:v_point]\n",
        "Y_train = Y[:v_point]\n",
        "X_valid = X[v_point:t_point]\n",
        "Y_valid = Y[v_point:t_point]\n",
        "X_test  = X[t_point:]\n",
        "Y_test  = Y[t_point:]\n",
        "# print out some of the data to check\n",
        "print(\"X_train: \", X_train[:5])\n",
        "print(\"Y_train: \", Y_train[:5])\n",
        "print(\"X_valid: \", X_valid[:5])\n",
        "print(\"Y_valid: \", Y_valid[:5])\n",
        "print(\"X_test: \", X_test[:5])\n",
        "print(\"Y_test: \", Y_test[:5])\n"
      ]
    },
    {
      "cell_type": "markdown",
      "metadata": {
        "id": "n6awn-6uogmo"
      },
      "source": [
        "Standardization of the data:"
      ]
    },
    {
      "cell_type": "code",
      "execution_count": 36,
      "metadata": {
        "id": "XSNawE7Zob_Y"
      },
      "outputs": [
        {
          "name": "stdout",
          "output_type": "stream",
          "text": [
            "Mean values of the training, validation and test input data: -8.41949864078967e-16 -0.033829980667358275 -0.05498069244049446\n",
            "Standard deviation of the training, validation and test input data: 1.0 1.0511230319365579 1.998856651869891\n"
          ]
        }
      ],
      "source": [
        "mean    = np.mean(X_train, axis=0)\n",
        "std     = np.std(X_train, axis=0)\n",
        "X_train = (X_train - mean) / std\n",
        "X_valid = (X_valid - mean) / std\n",
        "X_test  = (X_test - mean) / std\n",
        "\n",
        "print(\"Mean values of the training, validation and test input data:\", X_train.mean(), X_valid.mean(), X_test.mean())\n",
        "print(\"Standard deviation of the training, validation and test input data:\", X_train.std(), X_valid.std(), X_test.std())"
      ]
    },
    {
      "cell_type": "markdown",
      "metadata": {
        "id": "MpBJFHZvu9m2"
      },
      "source": [
        "Model definition, hints:\n",
        "* one or two hidden layers and 8-64 neurons / layer\n",
        "* the hidden layers should have non-linear activation functions\n",
        "* the input and output layers' sizes are defined by the data\n",
        "* as the output is continuous, it can be a linear layer"
      ]
    },
    {
      "cell_type": "code",
      "execution_count": 37,
      "metadata": {
        "id": "flEY3-qBorvA"
      },
      "outputs": [],
      "source": [
        "# Define the model\n",
        "model = Sequential()\n",
        "model.add(Dense(64, activation='relu', input_shape=(X_train.shape[1],)))\n",
        "model.add(Dense(64, activation='relu'))\n",
        "model.add(Dense(1))"
      ]
    },
    {
      "cell_type": "markdown",
      "metadata": {
        "id": "efZ6M0Yh3WlT"
      },
      "source": [
        "Inspect the model summary:"
      ]
    },
    {
      "cell_type": "code",
      "execution_count": 38,
      "metadata": {
        "id": "LhfnanAm3X9l"
      },
      "outputs": [
        {
          "name": "stdout",
          "output_type": "stream",
          "text": [
            "Model: \"sequential_2\"\n",
            "_________________________________________________________________\n",
            " Layer (type)                Output Shape              Param #   \n",
            "=================================================================\n",
            " dense_3 (Dense)             (None, 64)                576       \n",
            "                                                                 \n",
            " dense_4 (Dense)             (None, 64)                4160      \n",
            "                                                                 \n",
            " dense_5 (Dense)             (None, 1)                 65        \n",
            "                                                                 \n",
            "=================================================================\n",
            "Total params: 4801 (18.75 KB)\n",
            "Trainable params: 4801 (18.75 KB)\n",
            "Non-trainable params: 0 (0.00 Byte)\n",
            "_________________________________________________________________\n"
          ]
        }
      ],
      "source": [
        "model.summary()"
      ]
    },
    {
      "cell_type": "markdown",
      "metadata": {
        "id": "h3hCd6Cf3ZS1"
      },
      "source": [
        "Number of trainable parameters in the model: TODO"
      ]
    },
    {
      "cell_type": "markdown",
      "metadata": {
        "id": "ibjhW3pAoveO"
      },
      "source": [
        "Compiling the model, hints:\n",
        "* the loss function has to match the task (regession)\n",
        "* you should try ADAM and/or SGD optimizer"
      ]
    },
    {
      "cell_type": "code",
      "execution_count": 39,
      "metadata": {
        "id": "ztxln4VUow5q"
      },
      "outputs": [],
      "source": [
        "model.compile(loss='mean_squared_error', optimizer='adam', metrics=['accuracy'])"
      ]
    },
    {
      "cell_type": "markdown",
      "metadata": {
        "id": "zfmN2ROJo4xq"
      },
      "source": [
        "Defining the earlystopping callback function:"
      ]
    },
    {
      "cell_type": "code",
      "execution_count": 40,
      "metadata": {
        "id": "fhQMRIhio3Js"
      },
      "outputs": [],
      "source": [
        "from tensorflow.keras.callbacks import EarlyStopping\n",
        "\n",
        "es = EarlyStopping(\n",
        "    monitor='val_loss',\n",
        "    patience=10,\n",
        "    min_delta=0.001,\n",
        "    restore_best_weights=True,\n",
        ")"
      ]
    },
    {
      "cell_type": "markdown",
      "metadata": {
        "id": "JqJNQCtB2k08"
      },
      "source": [
        "Train the model, use training and validation data and apply early stopping:"
      ]
    },
    {
      "cell_type": "code",
      "execution_count": 44,
      "metadata": {
        "id": "oWDGwe862kQj"
      },
      "outputs": [
        {
          "name": "stdout",
          "output_type": "stream",
          "text": [
            "Epoch 1/1000000\n",
            "145/145 [==============================] - 0s 888us/step - loss: 0.2364 - accuracy: 0.0034 - val_loss: 0.6247 - val_accuracy: 0.0015\n",
            "Epoch 2/1000000\n",
            "145/145 [==============================] - 0s 546us/step - loss: 0.2323 - accuracy: 0.0034 - val_loss: 0.6138 - val_accuracy: 0.0015\n",
            "Epoch 3/1000000\n",
            "145/145 [==============================] - 0s 541us/step - loss: 0.2318 - accuracy: 0.0034 - val_loss: 0.5917 - val_accuracy: 0.0015\n",
            "Epoch 4/1000000\n",
            "145/145 [==============================] - 0s 536us/step - loss: 0.2314 - accuracy: 0.0034 - val_loss: 0.5897 - val_accuracy: 0.0015\n",
            "Epoch 5/1000000\n",
            "145/145 [==============================] - 0s 532us/step - loss: 0.2305 - accuracy: 0.0034 - val_loss: 0.5923 - val_accuracy: 0.0015\n",
            "Epoch 6/1000000\n",
            "145/145 [==============================] - 0s 526us/step - loss: 0.2303 - accuracy: 0.0034 - val_loss: 0.6074 - val_accuracy: 0.0015\n",
            "Epoch 7/1000000\n",
            "145/145 [==============================] - 0s 530us/step - loss: 0.2298 - accuracy: 0.0034 - val_loss: 0.5870 - val_accuracy: 0.0015\n",
            "Epoch 8/1000000\n",
            "145/145 [==============================] - 0s 532us/step - loss: 0.2305 - accuracy: 0.0034 - val_loss: 0.5772 - val_accuracy: 0.0015\n",
            "Epoch 9/1000000\n",
            "145/145 [==============================] - 0s 538us/step - loss: 0.2290 - accuracy: 0.0034 - val_loss: 0.5983 - val_accuracy: 0.0015\n",
            "Epoch 10/1000000\n",
            "145/145 [==============================] - 0s 548us/step - loss: 0.2283 - accuracy: 0.0034 - val_loss: 0.5541 - val_accuracy: 0.0015\n",
            "Epoch 11/1000000\n",
            "145/145 [==============================] - 0s 533us/step - loss: 0.2280 - accuracy: 0.0034 - val_loss: 0.6037 - val_accuracy: 0.0015\n",
            "Epoch 12/1000000\n",
            "145/145 [==============================] - 0s 628us/step - loss: 0.2280 - accuracy: 0.0034 - val_loss: 0.6126 - val_accuracy: 0.0015\n",
            "Epoch 13/1000000\n",
            "145/145 [==============================] - 0s 545us/step - loss: 0.2273 - accuracy: 0.0034 - val_loss: 0.6021 - val_accuracy: 0.0015\n",
            "Epoch 14/1000000\n",
            "145/145 [==============================] - 0s 530us/step - loss: 0.2278 - accuracy: 0.0034 - val_loss: 0.5658 - val_accuracy: 0.0015\n",
            "Epoch 15/1000000\n",
            "145/145 [==============================] - 0s 530us/step - loss: 0.2295 - accuracy: 0.0034 - val_loss: 0.5947 - val_accuracy: 0.0015\n",
            "Epoch 16/1000000\n",
            "145/145 [==============================] - 0s 535us/step - loss: 0.2258 - accuracy: 0.0034 - val_loss: 0.6252 - val_accuracy: 0.0015\n",
            "Epoch 17/1000000\n",
            "145/145 [==============================] - 0s 543us/step - loss: 0.2254 - accuracy: 0.0034 - val_loss: 0.5470 - val_accuracy: 0.0015\n",
            "Epoch 18/1000000\n",
            "145/145 [==============================] - 0s 528us/step - loss: 0.2240 - accuracy: 0.0034 - val_loss: 0.6345 - val_accuracy: 0.0015\n",
            "Epoch 19/1000000\n",
            "145/145 [==============================] - 0s 539us/step - loss: 0.2238 - accuracy: 0.0034 - val_loss: 0.6062 - val_accuracy: 0.0015\n",
            "Epoch 20/1000000\n",
            "145/145 [==============================] - 0s 555us/step - loss: 0.2229 - accuracy: 0.0034 - val_loss: 0.5596 - val_accuracy: 0.0015\n",
            "Epoch 21/1000000\n",
            "145/145 [==============================] - 0s 550us/step - loss: 0.2237 - accuracy: 0.0034 - val_loss: 0.6157 - val_accuracy: 0.0015\n",
            "Epoch 22/1000000\n",
            "145/145 [==============================] - 0s 547us/step - loss: 0.2221 - accuracy: 0.0034 - val_loss: 0.5762 - val_accuracy: 0.0015\n",
            "Epoch 23/1000000\n",
            "145/145 [==============================] - 0s 535us/step - loss: 0.2213 - accuracy: 0.0034 - val_loss: 0.6746 - val_accuracy: 0.0015\n",
            "Epoch 24/1000000\n",
            "145/145 [==============================] - 0s 530us/step - loss: 0.2210 - accuracy: 0.0034 - val_loss: 0.6999 - val_accuracy: 0.0015\n",
            "Epoch 25/1000000\n",
            "145/145 [==============================] - 0s 533us/step - loss: 0.2198 - accuracy: 0.0034 - val_loss: 0.5875 - val_accuracy: 0.0015\n",
            "Epoch 26/1000000\n",
            "145/145 [==============================] - 0s 552us/step - loss: 0.2192 - accuracy: 0.0034 - val_loss: 0.6257 - val_accuracy: 0.0015\n",
            "Epoch 27/1000000\n",
            "145/145 [==============================] - 0s 555us/step - loss: 0.2180 - accuracy: 0.0034 - val_loss: 0.6175 - val_accuracy: 0.0015\n"
          ]
        },
        {
          "data": {
            "text/plain": [
              "<keras.src.callbacks.History at 0x28b1c9bd0>"
            ]
          },
          "execution_count": 44,
          "metadata": {},
          "output_type": "execute_result"
        }
      ],
      "source": [
        "model.fit(X_train, Y_train,\n",
        "        validation_data=(X_valid,Y_valid),\n",
        "        batch_size=100,\n",
        "        epochs=1000000,\n",
        "        verbose=1,\n",
        "        callbacks=[es])"
      ]
    },
    {
      "cell_type": "markdown",
      "metadata": {
        "id": "pCaNGjzQ2m9D"
      },
      "source": [
        "Evaluate the model on the test data:"
      ]
    },
    {
      "cell_type": "code",
      "execution_count": 42,
      "metadata": {
        "id": "_MDJut_b3-6Q"
      },
      "outputs": [
        {
          "ename": "SyntaxError",
          "evalue": "invalid syntax (939675598.py, line 1)",
          "output_type": "error",
          "traceback": [
            "\u001b[0;36m  Cell \u001b[0;32mIn[42], line 1\u001b[0;36m\u001b[0m\n\u001b[0;31m    model.evaluate(<TODO>)\u001b[0m\n\u001b[0m                   ^\u001b[0m\n\u001b[0;31mSyntaxError\u001b[0m\u001b[0;31m:\u001b[0m invalid syntax\n"
          ]
        }
      ],
      "source": [
        "model.evaluate(<TODO>)"
      ]
    },
    {
      "cell_type": "markdown",
      "metadata": {
        "id": "Gtd_UnfN4TPP"
      },
      "source": [
        "Run inference on the test data:"
      ]
    },
    {
      "cell_type": "code",
      "execution_count": null,
      "metadata": {
        "id": "OhghFnnf4VA1"
      },
      "outputs": [],
      "source": [
        "preds = model.predict(<TODO>)"
      ]
    },
    {
      "cell_type": "markdown",
      "metadata": {
        "id": "cZkVPySYAddP"
      },
      "source": [
        "Inspect the result on a regression plot:"
      ]
    },
    {
      "cell_type": "code",
      "execution_count": null,
      "metadata": {
        "id": "Uzv3YtGlAcl6"
      },
      "outputs": [],
      "source": [
        "plt.figure(figsize=(10,10))\n",
        "sns.regplot(x=Y_test.reshape(-1), y=preds.reshape(-1)).set(xlim=(0,5),ylim=(0,5));"
      ]
    }
  ],
  "metadata": {
    "colab": {
      "include_colab_link": true,
      "provenance": []
    },
    "kernelspec": {
      "display_name": "Python 3",
      "language": "python",
      "name": "python3"
    },
    "language_info": {
      "codemirror_mode": {
        "name": "ipython",
        "version": 3
      },
      "file_extension": ".py",
      "mimetype": "text/x-python",
      "name": "python",
      "nbconvert_exporter": "python",
      "pygments_lexer": "ipython3",
      "version": "3.6.6"
    }
  },
  "nbformat": 4,
  "nbformat_minor": 0
}
